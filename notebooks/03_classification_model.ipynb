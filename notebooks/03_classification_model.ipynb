{
 "cells": [
  {
   "cell_type": "markdown",
   "id": "6f1b1aeb",
   "metadata": {},
   "source": [
    "Import Libraries & Load Data"
   ]
  },
  {
   "cell_type": "code",
   "execution_count": 1,
   "id": "0933625f",
   "metadata": {},
   "outputs": [
    {
     "name": "stderr",
     "output_type": "stream",
     "text": [
      "C:\\Users\\noobb\\AppData\\Local\\Temp\\ipykernel_51168\\2618990662.py:9: DtypeWarning: Columns (0) have mixed types. Specify dtype option on import or set low_memory=False.\n",
      "  df = pd.read_csv(\"engineered_food_data.csv\")\n"
     ]
    }
   ],
   "source": [
    "import pandas as pd\n",
    "from sklearn.model_selection import train_test_split\n",
    "from sklearn.ensemble import RandomForestClassifier\n",
    "from sklearn.metrics import classification_report, confusion_matrix\n",
    "import joblib\n",
    "import os\n",
    "\n",
    "# Load dataset\n",
    "df = pd.read_csv(\"engineered_food_data.csv\")\n",
    "\n",
    "# Define features and target\n",
    "features = [\n",
    "    'energy_100g', 'fat_100g', 'sugars_100g', 'salt_100g',\n",
    "    'fiber_100g', 'proteins_100g',\n",
    "    'bad_ingredient_count', 'additive_count', 'ingredients_length'\n",
    "]\n",
    "target = 'health_label'\n",
    "\n",
    "X = df[features]\n",
    "y = df[target]\n"
   ]
  },
  {
   "cell_type": "markdown",
   "id": "bfacb7e2",
   "metadata": {},
   "source": [
    "Train-Test Split (Stratified)"
   ]
  },
  {
   "cell_type": "code",
   "execution_count": 2,
   "id": "be5c34fb",
   "metadata": {},
   "outputs": [],
   "source": [
    "X_train, X_test, y_train, y_test = train_test_split(\n",
    "    X, y, test_size=0.2, stratify=y, random_state=42\n",
    ")\n"
   ]
  },
  {
   "cell_type": "markdown",
   "id": "020abda3",
   "metadata": {},
   "source": [
    "Train Classifier"
   ]
  },
  {
   "cell_type": "code",
   "execution_count": 3,
   "id": "8fba396d",
   "metadata": {},
   "outputs": [
    {
     "data": {
      "text/plain": [
       "['C://Users//noobb//Downloads//Food healthiness project//models//classifier.pkl']"
      ]
     },
     "execution_count": 3,
     "metadata": {},
     "output_type": "execute_result"
    }
   ],
   "source": [
    "clf = RandomForestClassifier(n_estimators=100, random_state=42)\n",
    "clf.fit(X_train, y_train)\n",
    "\n",
    "# Save model\n",
    "os.makedirs(\"models\", exist_ok=True)\n",
    "joblib.dump(clf, \"C://Users//noobb//Downloads//Food healthiness project//models//classifier.pkl\")\n"
   ]
  },
  {
   "cell_type": "markdown",
   "id": "1a012a15",
   "metadata": {},
   "source": [
    "Evaluate the Model"
   ]
  },
  {
   "cell_type": "code",
   "execution_count": 4,
   "id": "775112bd",
   "metadata": {},
   "outputs": [
    {
     "name": "stdout",
     "output_type": "stream",
     "text": [
      "Accuracy: 0.9367210180516448\n",
      "\n",
      "Classification Report:\n",
      "               precision    recall  f1-score   support\n",
      "\n",
      "     Healthy       0.95      0.93      0.94      9917\n",
      "    Moderate       0.89      0.91      0.90     14153\n",
      "   Unhealthy       0.96      0.96      0.96     21743\n",
      "\n",
      "    accuracy                           0.94     45813\n",
      "   macro avg       0.93      0.93      0.93     45813\n",
      "weighted avg       0.94      0.94      0.94     45813\n",
      "\n",
      "\n",
      "Confusion Matrix:\n",
      " [[ 9268   628    21]\n",
      " [  454 12817   882]\n",
      " [   29   885 20829]]\n"
     ]
    }
   ],
   "source": [
    "from sklearn.metrics import accuracy_score\n",
    "\n",
    "y_pred = clf.predict(X_test)\n",
    "\n",
    "print(\"Accuracy:\", accuracy_score(y_test, y_pred))\n",
    "print(\"\\nClassification Report:\\n\", classification_report(y_test, y_pred))\n",
    "print(\"\\nConfusion Matrix:\\n\", confusion_matrix(y_test, y_pred))\n"
   ]
  }
 ],
 "metadata": {
  "kernelspec": {
   "display_name": "base",
   "language": "python",
   "name": "python3"
  },
  "language_info": {
   "codemirror_mode": {
    "name": "ipython",
    "version": 3
   },
   "file_extension": ".py",
   "mimetype": "text/x-python",
   "name": "python",
   "nbconvert_exporter": "python",
   "pygments_lexer": "ipython3",
   "version": "3.12.7"
  }
 },
 "nbformat": 4,
 "nbformat_minor": 5
}
